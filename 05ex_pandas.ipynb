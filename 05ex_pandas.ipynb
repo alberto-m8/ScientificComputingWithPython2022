{
 "cells": [
  {
   "cell_type": "markdown",
   "metadata": {},
   "source": [
    "1\\. **Pandas DataFrame**\n",
    "\n",
    "This exercise consists in analyzing a dataset containg timing information from a series of Time-to-Digital-Converters (TDC) implemented in a pair of FPGAs. Each measurement (i.e. each row of the input file) consists of a flag that specifies the type of message ('HEAD', which in this case is always 1), two addresses of the TDC providing the signal ('FPGA' and 'TDC_CHANNEL'), and the timing information ('ORBIT_CNT', 'BX_COUNTER', and 'TDC_MEAS'). Each TDC count corresponds to 25/30 ns, whereas a unit of BX_COUNTER corresponds to 25 ns, and the ORBIT_CNT is increased every `x` BX_COUNTER. This allows to store the time in a similar way to hours, minutes and seconds."
   ]
  },
  {
   "cell_type": "code",
   "execution_count": 1,
   "metadata": {},
   "outputs": [],
   "source": [
    "# If haven't downloaded it yet, please get the data file with wget\n",
    "#!wget https://www.dropbox.com/s/xvjzaxzz3ysphme/data_000637.txt -P ./data/"
   ]
  },
  {
   "cell_type": "markdown",
   "metadata": {},
   "source": [
    "1\\. Create a Pandas DataFrame reading N rows of the `data/data_000637.txt` dataset. Choose N to be smaller than or equal to the maximum number of rows and larger that 10k (check the documentation)."
   ]
  },
  {
   "cell_type": "code",
   "execution_count": 2,
   "metadata": {},
   "outputs": [
    {
     "data": {
      "text/html": [
       "<div>\n",
       "<style scoped>\n",
       "    .dataframe tbody tr th:only-of-type {\n",
       "        vertical-align: middle;\n",
       "    }\n",
       "\n",
       "    .dataframe tbody tr th {\n",
       "        vertical-align: top;\n",
       "    }\n",
       "\n",
       "    .dataframe thead th {\n",
       "        text-align: right;\n",
       "    }\n",
       "</style>\n",
       "<table border=\"1\" class=\"dataframe\">\n",
       "  <thead>\n",
       "    <tr style=\"text-align: right;\">\n",
       "      <th></th>\n",
       "      <th>HEAD</th>\n",
       "      <th>FPGA</th>\n",
       "      <th>TDC_CHANNEL</th>\n",
       "      <th>ORBIT_CNT</th>\n",
       "      <th>BX_COUNTER</th>\n",
       "      <th>TDC_MEAS</th>\n",
       "    </tr>\n",
       "  </thead>\n",
       "  <tbody>\n",
       "    <tr>\n",
       "      <th>0</th>\n",
       "      <td>1</td>\n",
       "      <td>0</td>\n",
       "      <td>123</td>\n",
       "      <td>3869200167</td>\n",
       "      <td>2374</td>\n",
       "      <td>26</td>\n",
       "    </tr>\n",
       "    <tr>\n",
       "      <th>1</th>\n",
       "      <td>1</td>\n",
       "      <td>0</td>\n",
       "      <td>124</td>\n",
       "      <td>3869200167</td>\n",
       "      <td>2374</td>\n",
       "      <td>27</td>\n",
       "    </tr>\n",
       "    <tr>\n",
       "      <th>2</th>\n",
       "      <td>1</td>\n",
       "      <td>0</td>\n",
       "      <td>63</td>\n",
       "      <td>3869200167</td>\n",
       "      <td>2553</td>\n",
       "      <td>28</td>\n",
       "    </tr>\n",
       "    <tr>\n",
       "      <th>3</th>\n",
       "      <td>1</td>\n",
       "      <td>0</td>\n",
       "      <td>64</td>\n",
       "      <td>3869200167</td>\n",
       "      <td>2558</td>\n",
       "      <td>19</td>\n",
       "    </tr>\n",
       "    <tr>\n",
       "      <th>4</th>\n",
       "      <td>1</td>\n",
       "      <td>0</td>\n",
       "      <td>64</td>\n",
       "      <td>3869200167</td>\n",
       "      <td>2760</td>\n",
       "      <td>25</td>\n",
       "    </tr>\n",
       "    <tr>\n",
       "      <th>...</th>\n",
       "      <td>...</td>\n",
       "      <td>...</td>\n",
       "      <td>...</td>\n",
       "      <td>...</td>\n",
       "      <td>...</td>\n",
       "      <td>...</td>\n",
       "    </tr>\n",
       "    <tr>\n",
       "      <th>199995</th>\n",
       "      <td>1</td>\n",
       "      <td>0</td>\n",
       "      <td>139</td>\n",
       "      <td>3869202157</td>\n",
       "      <td>76</td>\n",
       "      <td>0</td>\n",
       "    </tr>\n",
       "    <tr>\n",
       "      <th>199996</th>\n",
       "      <td>1</td>\n",
       "      <td>0</td>\n",
       "      <td>62</td>\n",
       "      <td>3869202157</td>\n",
       "      <td>76</td>\n",
       "      <td>2</td>\n",
       "    </tr>\n",
       "    <tr>\n",
       "      <th>199997</th>\n",
       "      <td>1</td>\n",
       "      <td>1</td>\n",
       "      <td>2</td>\n",
       "      <td>3869202157</td>\n",
       "      <td>94</td>\n",
       "      <td>15</td>\n",
       "    </tr>\n",
       "    <tr>\n",
       "      <th>199998</th>\n",
       "      <td>1</td>\n",
       "      <td>1</td>\n",
       "      <td>1</td>\n",
       "      <td>3869202157</td>\n",
       "      <td>96</td>\n",
       "      <td>13</td>\n",
       "    </tr>\n",
       "    <tr>\n",
       "      <th>199999</th>\n",
       "      <td>1</td>\n",
       "      <td>1</td>\n",
       "      <td>3</td>\n",
       "      <td>3869202157</td>\n",
       "      <td>107</td>\n",
       "      <td>19</td>\n",
       "    </tr>\n",
       "  </tbody>\n",
       "</table>\n",
       "<p>200000 rows × 6 columns</p>\n",
       "</div>"
      ],
      "text/plain": [
       "        HEAD  FPGA  TDC_CHANNEL   ORBIT_CNT  BX_COUNTER  TDC_MEAS\n",
       "0          1     0          123  3869200167        2374        26\n",
       "1          1     0          124  3869200167        2374        27\n",
       "2          1     0           63  3869200167        2553        28\n",
       "3          1     0           64  3869200167        2558        19\n",
       "4          1     0           64  3869200167        2760        25\n",
       "...      ...   ...          ...         ...         ...       ...\n",
       "199995     1     0          139  3869202157          76         0\n",
       "199996     1     0           62  3869202157          76         2\n",
       "199997     1     1            2  3869202157          94        15\n",
       "199998     1     1            1  3869202157          96        13\n",
       "199999     1     1            3  3869202157         107        19\n",
       "\n",
       "[200000 rows x 6 columns]"
      ]
     },
     "execution_count": 2,
     "metadata": {},
     "output_type": "execute_result"
    }
   ],
   "source": [
    "import pandas as pd\n",
    "import numpy as np\n",
    "file_name = \"./data/data_000637.txt\"\n",
    "N = 200000\n",
    "data = pd.read_csv(file_name, nrows = N)\n",
    "data"
   ]
  },
  {
   "cell_type": "markdown",
   "metadata": {},
   "source": [
    "2\\. Estimate the number of BX in a ORBIT (the value `x`).\n",
    "\n",
    "*Hint*: check when the BX counter reaches the maximum value before being reset to 0."
   ]
  },
  {
   "cell_type": "code",
   "execution_count": 3,
   "metadata": {},
   "outputs": [
    {
     "name": "stdout",
     "output_type": "stream",
     "text": [
      "        BX_COUNTER\n",
      "0             3187\n",
      "1             3187\n",
      "2             3187\n",
      "3             3187\n",
      "4             3187\n",
      "...            ...\n",
      "199995         107\n",
      "199996         107\n",
      "199997         107\n",
      "199998         107\n",
      "199999         107\n",
      "\n",
      "[200000 rows x 1 columns]\n",
      "2884.7844712182064\n"
     ]
    }
   ],
   "source": [
    "df = data.loc[:, ['ORBIT_CNT', 'BX_COUNTER']].groupby('ORBIT_CNT').transform(np.max)\n",
    "print(df)\n",
    "x = df['BX_COUNTER'].unique().mean()\n",
    "print(x)"
   ]
  },
  {
   "cell_type": "markdown",
   "metadata": {},
   "source": [
    "3\\. Create a new column with the absolute time in ns (as a combination of the other three columns with timing information) since the beginning of the data acquisition, and convert the new column to a Time Series."
   ]
  },
  {
   "cell_type": "code",
   "execution_count": 4,
   "metadata": {},
   "outputs": [
    {
     "name": "stdout",
     "output_type": "stream",
     "text": [
      "        HEAD  FPGA  TDC_CHANNEL   ORBIT_CNT  BX_COUNTER  TDC_MEAS  \\\n",
      "0          1     0          123  3869200167        2374        26   \n",
      "1          1     0          124  3869200167        2374        27   \n",
      "2          1     0           63  3869200167        2553        28   \n",
      "3          1     0           64  3869200167        2558        19   \n",
      "4          1     0           64  3869200167        2760        25   \n",
      "...      ...   ...          ...         ...         ...       ...   \n",
      "199995     1     0          139  3869202157          76         0   \n",
      "199996     1     0           62  3869202157          76         2   \n",
      "199997     1     1            2  3869202157          94        15   \n",
      "199998     1     1            1  3869202157          96        13   \n",
      "199999     1     1            3  3869202157         107        19   \n",
      "\n",
      "        TOTAL_TIME_timestamp  \n",
      "0               2.790452e+14  \n",
      "1               2.790452e+14  \n",
      "2               2.790452e+14  \n",
      "3               2.790452e+14  \n",
      "4               2.790452e+14  \n",
      "...                      ...  \n",
      "199995          2.790454e+14  \n",
      "199996          2.790454e+14  \n",
      "199997          2.790454e+14  \n",
      "199998          2.790454e+14  \n",
      "199999          2.790454e+14  \n",
      "\n",
      "[200000 rows x 7 columns]\n",
      "        HEAD  FPGA  TDC_CHANNEL   ORBIT_CNT  BX_COUNTER  TDC_MEAS  \\\n",
      "0          1     0          123  3869200167        2374        26   \n",
      "1          1     0          124  3869200167        2374        27   \n",
      "2          1     0           63  3869200167        2553        28   \n",
      "3          1     0           64  3869200167        2558        19   \n",
      "4          1     0           64  3869200167        2760        25   \n",
      "...      ...   ...          ...         ...         ...       ...   \n",
      "199995     1     0          139  3869202157          76         0   \n",
      "199996     1     0           62  3869202157          76         2   \n",
      "199997     1     1            2  3869202157          94        15   \n",
      "199998     1     1            1  3869202157          96        13   \n",
      "199999     1     1            3  3869202157         107        19   \n",
      "\n",
      "        TOTAL_TIME_timestamp                 TOTAL_TIME_ns  \n",
      "0               2.790452e+14 1970-01-04 05:30:45.214004283  \n",
      "1               2.790452e+14 1970-01-04 05:30:45.214004284  \n",
      "2               2.790452e+14 1970-01-04 05:30:45.214008760  \n",
      "3               2.790452e+14 1970-01-04 05:30:45.214008878  \n",
      "4               2.790452e+14 1970-01-04 05:30:45.214013933  \n",
      "...                      ...                           ...  \n",
      "199995          2.790454e+14 1970-01-04 05:30:45.357464839  \n",
      "199996          2.790454e+14 1970-01-04 05:30:45.357464841  \n",
      "199997          2.790454e+14 1970-01-04 05:30:45.357465302  \n",
      "199998          2.790454e+14 1970-01-04 05:30:45.357465350  \n",
      "199999          2.790454e+14 1970-01-04 05:30:45.357465630  \n",
      "\n",
      "[200000 rows x 8 columns]\n"
     ]
    }
   ],
   "source": [
    "data['TOTAL_TIME_timestamp'] = data['ORBIT_CNT']*x*25 + data['BX_COUNTER']*25 + data['TDC_MEAS']*(25/30)\n",
    "print(data)\n",
    "import datetime as dt\n",
    "#data['TOTAL_TIME_C'] = dt.datetime.fromtimestamp(data.loc[:, ['TOTAL_TIME']]//1000000000) \n",
    "#data['TOTAL_TIME_C'] = pd.to_datetime(data.loc[:, ['TOTAL_TIME']]*10^3, format='%f')\n",
    "#c = pd.Timestamp(data['TOTAL_TIME']*10^3, unit='ns')\n",
    "#df2 = pd.Timestamp(data.loc[:, ['TOTAL_TIME']], unit='ns')\n",
    "#ts = pd.to_datetime(str(data['TOTAL_TIME']*10^3), format='%f')\n",
    "#print(c.value)\n",
    "data['TOTAL_TIME_ns'] = pd.to_datetime(data['TOTAL_TIME_timestamp'], unit='ns')\n",
    "print(data)"
   ]
  },
  {
   "cell_type": "markdown",
   "metadata": {},
   "source": [
    "4\\. Find out the duration of the data taking in hours, minutes and seconds, by using the features of the Time Series. Perform this check reading the whole dataset."
   ]
  },
  {
   "cell_type": "code",
   "execution_count": 5,
   "metadata": {},
   "outputs": [
    {
     "data": {
      "text/plain": [
       "0                         NaT\n",
       "1   0 days 00:00:00.143461347\n",
       "dtype: timedelta64[ns]"
      ]
     },
     "execution_count": 5,
     "metadata": {},
     "output_type": "execute_result"
    }
   ],
   "source": [
    "data\n",
    "s = pd.Series([data.iloc[0, 7], data.iloc[-1, 7]])\n",
    "s.diff()"
   ]
  },
  {
   "cell_type": "markdown",
   "metadata": {},
   "source": [
    "5\\. Use the `.groupby()` method to find out the noisy channels, i.e. the TDC channels with most counts (print to screen the top 3 and the corresponding counts)"
   ]
  },
  {
   "cell_type": "code",
   "execution_count": 6,
   "metadata": {},
   "outputs": [
    {
     "name": "stdout",
     "output_type": "stream",
     "text": [
      "             TDC_COUNT\n",
      "TDC_CHANNEL           \n",
      "1                 4484\n",
      "2                 5171\n",
      "3                 3544\n",
      "4                 4307\n",
      "5                 2464\n",
      "...                ...\n",
      "129                  7\n",
      "130                 15\n",
      "137                 11\n",
      "138                 11\n",
      "139              16627\n",
      "\n",
      "[133 rows x 1 columns]\n",
      "             TDC_COUNT\n",
      "TDC_CHANNEL           \n",
      "1                 4484\n",
      "2                 5171\n",
      "3                 3544\n"
     ]
    }
   ],
   "source": [
    "df = data.loc[:, ['TDC_CHANNEL','ORBIT_CNT']].groupby('TDC_CHANNEL').count()\n",
    "df.sort_values(by='ORBIT_CNT', ascending=False)\n",
    "df.rename(columns = {'ORBIT_CNT':'TDC_COUNT'}, inplace = True)\n",
    "print(df)\n",
    "print(df.loc[1:3, ['TDC_COUNT']])"
   ]
  },
  {
   "cell_type": "markdown",
   "metadata": {},
   "source": [
    "6\\. Count the number of non-empty orbits (i.e. the number of orbits with at least one hit)."
   ]
  },
  {
   "cell_type": "code",
   "execution_count": 7,
   "metadata": {},
   "outputs": [
    {
     "data": {
      "text/plain": [
       "1989"
      ]
     },
     "execution_count": 7,
     "metadata": {},
     "output_type": "execute_result"
    }
   ],
   "source": [
    "ne_o = len(data.groupby('ORBIT_CNT')['ORBIT_CNT'].count())\n",
    "ne_o"
   ]
  },
  {
   "cell_type": "markdown",
   "metadata": {},
   "source": [
    "7\\. Count the number of unique orbits with at least one measurement from TDC_CHANNEL=139."
   ]
  },
  {
   "cell_type": "code",
   "execution_count": 8,
   "metadata": {},
   "outputs": [
    {
     "name": "stdout",
     "output_type": "stream",
     "text": [
      "1987\n"
     ]
    }
   ],
   "source": [
    "orbits = data.loc[data['TDC_CHANNEL'] == 139, 'ORBIT_CNT'].unique()\n",
    "n = len(orbits)\n",
    "print(n)"
   ]
  },
  {
   "cell_type": "markdown",
   "metadata": {},
   "source": [
    "8\\. Create two Series (one for each FPGA) that have the TDC channel as index, and the number of counts for the corresponding TDC channel as values."
   ]
  },
  {
   "cell_type": "code",
   "execution_count": 9,
   "metadata": {},
   "outputs": [
    {
     "name": "stdout",
     "output_type": "stream",
     "text": [
      "TDC_CHANNEL\n",
      "1        187\n",
      "2        233\n",
      "3        229\n",
      "4        325\n",
      "5        232\n",
      "       ...  \n",
      "129        1\n",
      "130        7\n",
      "137        5\n",
      "138        5\n",
      "139    11665\n",
      "Name: TDC_CHANNEL, Length: 122, dtype: int64\n"
     ]
    },
    {
     "data": {
      "text/plain": [
       "TDC_CHANNEL\n",
       "1      4297\n",
       "2      4938\n",
       "3      3315\n",
       "4      3982\n",
       "5      2232\n",
       "       ... \n",
       "129       6\n",
       "130       8\n",
       "137       6\n",
       "138       6\n",
       "139    4962\n",
       "Name: TDC_CHANNEL, Length: 132, dtype: int64"
      ]
     },
     "execution_count": 9,
     "metadata": {},
     "output_type": "execute_result"
    }
   ],
   "source": [
    "fpga_0 = data.loc[data['FPGA']==0].groupby('TDC_CHANNEL')['TDC_CHANNEL'].count()\n",
    "print(fpga_0)\n",
    "fpga_1 = data.loc[data['FPGA']==1].groupby('TDC_CHANNEL')['TDC_CHANNEL'].count()\n",
    "fpga_1"
   ]
  },
  {
   "cell_type": "markdown",
   "metadata": {},
   "source": [
    "9\\. **Optional:** Create two histograms (one for each FPGA) that show the number of counts for each TDC channel."
   ]
  },
  {
   "cell_type": "code",
   "execution_count": 10,
   "metadata": {},
   "outputs": [
    {
     "data": {
      "text/plain": [
       "<AxesSubplot:xlabel='TDC_CHANNEL'>"
      ]
     },
     "execution_count": 10,
     "metadata": {},
     "output_type": "execute_result"
    },
    {
     "data": {
      "image/png": "[encoded data removed]",
      "text/plain": [
       "<Figure size 432x288 with 1 Axes>"
      ]
     },
     "metadata": {
      "needs_background": "light"
     },
     "output_type": "display_data"
    }
   ],
   "source": [
    "import matplotlib.pyplot as plt\n",
    "#plt.plot(fpga_0.iloc[0], fpga_0.iloc[1])\n",
    "fpga_0.plot(kind='bar')\n"
   ]
  },
  {
   "cell_type": "code",
   "execution_count": 11,
   "metadata": {},
   "outputs": [
    {
     "data": {
      "text/plain": [
       "<AxesSubplot:xlabel='TDC_CHANNEL'>"
      ]
     },
     "execution_count": 11,
     "metadata": {},
     "output_type": "execute_result"
    },
    {
     "data": {
      "image/png": "[encoded data removed]",
      "text/plain": [
       "<Figure size 432x288 with 1 Axes>"
      ]
     },
     "metadata": {
      "needs_background": "light"
     },
     "output_type": "display_data"
    }
   ],
   "source": [
    "fpga_1.plot(kind='bar')"
   ]
  },
  {
   "cell_type": "code",
   "execution_count": null,
   "metadata": {},
   "outputs": [],
   "source": []
  },
  {
   "cell_type": "code",
   "execution_count": null,
   "metadata": {},
   "outputs": [],
   "source": []
  }
 ],
 "metadata": {
  "kernelspec": {
   "display_name": "Python 3 (ipykernel)",
   "language": "python",
   "name": "python3"
  },
  "language_info": {
   "codemirror_mode": {
    "name": "ipython",
    "version": 3
   },
   "file_extension": ".py",
   "mimetype": "text/x-python",
   "name": "python",
   "nbconvert_exporter": "python",
   "pygments_lexer": "ipython3",
   "version": "3.10.6"
  }
 },
 "nbformat": 4,
 "nbformat_minor": 2
}
